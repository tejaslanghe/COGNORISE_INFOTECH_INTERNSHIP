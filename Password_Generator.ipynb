{
 "cells": [
  {
   "cell_type": "code",
   "execution_count": null,
   "id": "f1ef5f44",
   "metadata": {},
   "outputs": [],
   "source": [
    "import string\n",
    "import random\n",
    "\n",
    "if __name__ == \"__main__\":\n",
    "    s1 = string.ascii_lowercase\n",
    "     # lowercase letter\n",
    "    s2 = string.ascii_uppercase\n",
    "     #Uppercase letter\n",
    "    s3 = string.digits\n",
    "    # All Digits\n",
    "    s4 = string.punctuation\n",
    "    # All Punctuation\n",
    "    Passwordlength = int(input(\"Enter Password length\\n\")) #Todo1: Handle Gibberish\n",
    "    s = []\n",
    "    s.extend(list(s1))\n",
    "    s.extend(list(s2))\n",
    "    s.extend(list(s3))\n",
    "    s.extend(list(s4))\n",
    "\n",
    "    print(\"Your Password is: \")\n",
    "    print(\"\".join(random.sample(s, Passwordlength)))\n",
    "\n"
   ]
  }
 ],
 "metadata": {
  "kernelspec": {
   "display_name": "Python 3 (ipykernel)",
   "language": "python",
   "name": "python3"
  },
  "language_info": {
   "codemirror_mode": {
    "name": "ipython",
    "version": 3
   },
   "file_extension": ".py",
   "mimetype": "text/x-python",
   "name": "python",
   "nbconvert_exporter": "python",
   "pygments_lexer": "ipython3",
   "version": "3.11.5"
  }
 },
 "nbformat": 4,
 "nbformat_minor": 5
}
