{
 "cells": [
  {
   "cell_type": "code",
   "execution_count": 3,
   "id": "d9598c95",
   "metadata": {},
   "outputs": [
    {
     "name": "stdout",
     "output_type": "stream",
     "text": [
      "~~~~~Simple  Calculator~~~~~\n",
      "Enter a number here: 12\n",
      "Enter another number here: 2\n",
      "\n",
      "Press 1 for Addition \n",
      "Press 2 for Subtraction\n",
      "Press 3 for Multiplication\n",
      "Press 4 for Division\n",
      "Enter a number between 1-4: 3\n",
      "The Multiplication of the given two numbers is 24.0\n"
     ]
    }
   ],
   "source": [
    "print (\"~~~~~Simple  Calculator~~~~~\")\n",
    "\n",
    "num1 = float(input(\"Enter a number here: \"))\n",
    "num2 = float(input(\"Enter another number here: \"))\n",
    "\n",
    "print (\"\"\"\n",
    "Press 1 for Addition \n",
    "Press 2 for Subtraction\n",
    "Press 3 for Multiplication\n",
    "Press 4 for Division\"\"\")\n",
    "\n",
    "choice = int(input(\"Enter a number between 1-4: \"))\n",
    "\n",
    "if choice == 1:\n",
    "    sum = num1+num2\n",
    "    print (\"The Addition of the given two numbers is\",sum)\n",
    "elif choice == 2:\n",
    "    print (\"The Subtraction of the given two numbers is\",num1-num2)\n",
    "elif choice == 3:\n",
    "    print (\"The Multiplication of the given two numbers is\",num1*num2)\n",
    "elif choice == 4:\n",
    "    print (\"The Division of the given two numbers is\",num1/num2)\n",
    "else:\n",
    "    print (\"Invalid Input from the User\")"
   ]
  },
  {
   "cell_type": "code",
   "execution_count": null,
   "id": "289e8416",
   "metadata": {},
   "outputs": [],
   "source": []
  }
 ],
 "metadata": {
  "kernelspec": {
   "display_name": "Python 3 (ipykernel)",
   "language": "python",
   "name": "python3"
  },
  "language_info": {
   "codemirror_mode": {
    "name": "ipython",
    "version": 3
   },
   "file_extension": ".py",
   "mimetype": "text/x-python",
   "name": "python",
   "nbconvert_exporter": "python",
   "pygments_lexer": "ipython3",
   "version": "3.11.5"
  }
 },
 "nbformat": 4,
 "nbformat_minor": 5
}
